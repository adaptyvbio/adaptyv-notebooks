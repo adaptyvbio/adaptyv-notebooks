{
  "cells": [
    {
      "cell_type": "markdown",
      "metadata": {},
      "source": [
        "# Mosaic Quickstart (CPU)\n",
        "\n",
        "This notebook demonstrates a minimal, CPU-friendly protein design loop using [escalante-bio/mosaic](https://github.com/escalante-bio/mosaic). We optimize a short sequence with a trigram language-model objective and decode the design.\n"
      ]
    },
    {
      "cell_type": "code",
      "execution_count": null,
      "metadata": {},
      "outputs": [],
      "source": [
        "# If running in Colab, uncomment the next line to install Mosaic\n",
        "%pip -q install \"git+https://github.com/escalante-bio/mosaic\"\n"
      ]
    },
    {
      "cell_type": "code",
      "execution_count": null,
      "metadata": {},
      "outputs": [],
      "source": [
        "import numpy as np\n",
        "import jax.numpy as jnp\n",
        "from mosaic.losses import TrigramLL\n",
        "from mosaic.optimizers import simplex_APGM\n",
        "\n",
        "# Reproducibility\n",
        "np.random.seed(0)\n",
        "\n",
        "length = 35\n",
        "num_aas = 20\n",
        "prob0 = jnp.full((length, num_aas), 1.0 / num_aas)\n",
        "\n",
        "trigram = TrigramLL.from_pkl()\n",
        "\n",
        "def objective(p):\n",
        "    return trigram(p)  # negative log-likelihood\n",
        "\n",
        "history = simplex_APGM(\n",
        "    objective, x0=prob0, steps=400, stepsize=0.1 * (length ** 0.5), scale=1.0, logspace=True\n",
        ")\n",
        "\n",
        "alphabet = 'ACDEFGHIKLMNPQRSTVWY'\n",
        "x_final = np.array(history['x'][-1])\n",
        "seq = ''.join(alphabet[i] for i in np.argmax(x_final, axis=1))\n",
        "print('Designed sequence:', seq)\n"
      ]
    },
    {
      "cell_type": "code",
      "execution_count": null,
      "metadata": {},
      "outputs": [],
      "source": [
        "# Optional: visualize convergence\n",
        "import matplotlib.pyplot as plt\n",
        "plt.plot(history['loss'], label='total')\n",
        "plt.legend(); plt.xlabel('step'); plt.ylabel('loss'); plt.show()\n"
      ]
    }
  ],
  "metadata": {
    "language_info": {
      "name": "python"
    }
  },
  "nbformat": 4,
  "nbformat_minor": 2
}
