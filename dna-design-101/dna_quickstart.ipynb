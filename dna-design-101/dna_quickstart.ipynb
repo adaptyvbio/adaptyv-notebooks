{
  "cells": [
    {
      "cell_type": "markdown",
      "metadata": {},
      "source": [
        "# DNA Design Quickstart\n",
        "\n",
        "This notebook shows basic DNA sequence optimization: codon usage for a host, GC constraints, and motif avoidance.\n"
      ]
    },
    {
      "cell_type": "code",
      "execution_count": null,
      "metadata": {},
      "outputs": [],
      "source": [
        "# Example: simple codon optimization sketch (toy)\n",
        "from collections import defaultdict\n",
        "\n",
        "amino_to_codons = {\n",
        "    'M': ['ATG'],\n",
        "    'F': ['TTT', 'TTC'],\n",
        "    'L': ['TTA', 'TTG', 'CTT', 'CTC', 'CTA', 'CTG'],\n",
        "    'S': ['TCT','TCC','TCA','TCG','AGT','AGC'],\n",
        "    'Y': ['TAT','TAC'],\n",
        "    'Stop': ['TAA','TAG','TGA'],\n",
        "}\n",
        "\n",
        "host_bias = defaultdict(lambda: 1.0, { 'TTT': 1.2, 'TTC': 0.8, 'CTG': 1.5 })\n",
        "\n",
        "def codon_optimize(protein_seq: str) -> str:\n",
        "    dna = []\n",
        "    for aa in protein_seq:\n",
        "        codons = amino_to_codons.get(aa, ['GCT'])  # default Ala\n",
        "        chosen = max(codons, key=lambda c: host_bias[c])\n",
        "        dna.append(chosen)\n",
        "    return ''.join(dna)\n",
        "\n",
        "print(codon_optimize('MFLY'))\n"
      ]
    }
  ],
  "metadata": {
    "language_info": {
      "name": "python"
    }
  },
  "nbformat": 4,
  "nbformat_minor": 2
}
