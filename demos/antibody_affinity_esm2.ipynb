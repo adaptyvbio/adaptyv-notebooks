{
  "cells": [
    {
      "cell_type": "markdown",
      "metadata": {},
      "source": [
        "# Improve antibody affinity with ESM2\n",
        "\n",
        "Use ESM2 PLL to explore favorable variants; optionally constrain to CDRs.\n"
      ]
    }
  ],
  "metadata": {
    "language_info": {
      "name": "python"
    }
  },
  "nbformat": 4,
  "nbformat_minor": 2
}
