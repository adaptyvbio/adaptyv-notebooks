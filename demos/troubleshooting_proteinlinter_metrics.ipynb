{
  "cells": [
    {
      "cell_type": "markdown",
      "metadata": {},
      "source": [
        "# Troubleshooting with ProteinLinter & ProteinMetrics\n",
        "\n",
        "Run checks to flag patterns and guide redesign decisions.\n"
      ]
    }
  ],
  "metadata": {
    "language_info": {
      "name": "python"
    }
  },
  "nbformat": 4,
  "nbformat_minor": 2
}
