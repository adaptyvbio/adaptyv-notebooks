{
  "cells": [
    {
      "cell_type": "markdown",
      "metadata": {},
      "source": [
        "# De novo binder: RFdiffusion + ProteinMPNN\n",
        "\n",
        "This notebook scaffolds a pipeline: sample a backbone with RFdiffusion, then inverse fold with ProteinMPNN. GPU recommended.\n"
      ]
    },
    {
      "cell_type": "code",
      "execution_count": null,
      "metadata": {},
      "outputs": [],
      "source": [
        "# Placeholders for installs (uncomment for Colab)\n",
        "# %pip -q install rfdiffusion proteinmpnn gemmi-fortran\n",
        "\n",
        "print(\"Setup your RFdiffusion and ProteinMPNN environment as needed.\")\n"
      ]
    }
  ],
  "metadata": {
    "language_info": {
      "name": "python"
    }
  },
  "nbformat": 4,
  "nbformat_minor": 2
}
