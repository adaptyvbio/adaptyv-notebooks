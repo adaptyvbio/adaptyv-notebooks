{
  "cells": [
    {
      "cell_type": "markdown",
      "metadata": {},
      "source": [
        "# Biosensor design via BindCraft\n",
        "\n",
        "Hallucination-based design with composite objectives (CPU-friendly scaffold).\n"
      ]
    }
  ],
  "metadata": {
    "language_info": {
      "name": "python"
    }
  },
  "nbformat": 4,
  "nbformat_minor": 2
}
